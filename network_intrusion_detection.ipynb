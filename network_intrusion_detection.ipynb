{
  "cells": [
    {
      "cell_type": "code",
      "execution_count": null,
      "metadata": {
        "colab": {
          "base_uri": "https://localhost:8080/",
          "height": 347
        },
        "id": "yTWFDZrHH7yX",
        "outputId": "35396eb8-cb6b-4b3d-81f5-8c03ebce3aa8"
      },
      "outputs": [
        {
          "output_type": "error",
          "ename": "MessageError",
          "evalue": "Error: credential propagation was unsuccessful",
          "traceback": [
            "\u001b[0;31m---------------------------------------------------------------------------\u001b[0m",
            "\u001b[0;31mMessageError\u001b[0m                              Traceback (most recent call last)",
            "\u001b[0;32m<ipython-input-1-3fabc185350d>\u001b[0m in \u001b[0;36m<cell line: 25>\u001b[0;34m()\u001b[0m\n\u001b[1;32m     23\u001b[0m \u001b[0;34m\u001b[0m\u001b[0m\n\u001b[1;32m     24\u001b[0m \u001b[0;32mfrom\u001b[0m \u001b[0mgoogle\u001b[0m\u001b[0;34m.\u001b[0m\u001b[0mcolab\u001b[0m \u001b[0;32mimport\u001b[0m \u001b[0mdrive\u001b[0m\u001b[0;34m\u001b[0m\u001b[0;34m\u001b[0m\u001b[0m\n\u001b[0;32m---> 25\u001b[0;31m \u001b[0mdrive\u001b[0m\u001b[0;34m.\u001b[0m\u001b[0mmount\u001b[0m\u001b[0;34m(\u001b[0m\u001b[0;34m'/content/drive'\u001b[0m\u001b[0;34m)\u001b[0m\u001b[0;34m\u001b[0m\u001b[0;34m\u001b[0m\u001b[0m\n\u001b[0m",
            "\u001b[0;32m/usr/local/lib/python3.10/dist-packages/google/colab/drive.py\u001b[0m in \u001b[0;36mmount\u001b[0;34m(mountpoint, force_remount, timeout_ms, readonly)\u001b[0m\n\u001b[1;32m     98\u001b[0m \u001b[0;32mdef\u001b[0m \u001b[0mmount\u001b[0m\u001b[0;34m(\u001b[0m\u001b[0mmountpoint\u001b[0m\u001b[0;34m,\u001b[0m \u001b[0mforce_remount\u001b[0m\u001b[0;34m=\u001b[0m\u001b[0;32mFalse\u001b[0m\u001b[0;34m,\u001b[0m \u001b[0mtimeout_ms\u001b[0m\u001b[0;34m=\u001b[0m\u001b[0;36m120000\u001b[0m\u001b[0;34m,\u001b[0m \u001b[0mreadonly\u001b[0m\u001b[0;34m=\u001b[0m\u001b[0;32mFalse\u001b[0m\u001b[0;34m)\u001b[0m\u001b[0;34m:\u001b[0m\u001b[0;34m\u001b[0m\u001b[0;34m\u001b[0m\u001b[0m\n\u001b[1;32m     99\u001b[0m   \u001b[0;34m\"\"\"Mount your Google Drive at the specified mountpoint path.\"\"\"\u001b[0m\u001b[0;34m\u001b[0m\u001b[0;34m\u001b[0m\u001b[0m\n\u001b[0;32m--> 100\u001b[0;31m   return _mount(\n\u001b[0m\u001b[1;32m    101\u001b[0m       \u001b[0mmountpoint\u001b[0m\u001b[0;34m,\u001b[0m\u001b[0;34m\u001b[0m\u001b[0;34m\u001b[0m\u001b[0m\n\u001b[1;32m    102\u001b[0m       \u001b[0mforce_remount\u001b[0m\u001b[0;34m=\u001b[0m\u001b[0mforce_remount\u001b[0m\u001b[0;34m,\u001b[0m\u001b[0;34m\u001b[0m\u001b[0;34m\u001b[0m\u001b[0m\n",
            "\u001b[0;32m/usr/local/lib/python3.10/dist-packages/google/colab/drive.py\u001b[0m in \u001b[0;36m_mount\u001b[0;34m(mountpoint, force_remount, timeout_ms, ephemeral, readonly)\u001b[0m\n\u001b[1;32m    131\u001b[0m   )\n\u001b[1;32m    132\u001b[0m   \u001b[0;32mif\u001b[0m \u001b[0mephemeral\u001b[0m\u001b[0;34m:\u001b[0m\u001b[0;34m\u001b[0m\u001b[0;34m\u001b[0m\u001b[0m\n\u001b[0;32m--> 133\u001b[0;31m     _message.blocking_request(\n\u001b[0m\u001b[1;32m    134\u001b[0m         \u001b[0;34m'request_auth'\u001b[0m\u001b[0;34m,\u001b[0m \u001b[0mrequest\u001b[0m\u001b[0;34m=\u001b[0m\u001b[0;34m{\u001b[0m\u001b[0;34m'authType'\u001b[0m\u001b[0;34m:\u001b[0m \u001b[0;34m'dfs_ephemeral'\u001b[0m\u001b[0;34m}\u001b[0m\u001b[0;34m,\u001b[0m \u001b[0mtimeout_sec\u001b[0m\u001b[0;34m=\u001b[0m\u001b[0;32mNone\u001b[0m\u001b[0;34m\u001b[0m\u001b[0;34m\u001b[0m\u001b[0m\n\u001b[1;32m    135\u001b[0m     )\n",
            "\u001b[0;32m/usr/local/lib/python3.10/dist-packages/google/colab/_message.py\u001b[0m in \u001b[0;36mblocking_request\u001b[0;34m(request_type, request, timeout_sec, parent)\u001b[0m\n\u001b[1;32m    174\u001b[0m       \u001b[0mrequest_type\u001b[0m\u001b[0;34m,\u001b[0m \u001b[0mrequest\u001b[0m\u001b[0;34m,\u001b[0m \u001b[0mparent\u001b[0m\u001b[0;34m=\u001b[0m\u001b[0mparent\u001b[0m\u001b[0;34m,\u001b[0m \u001b[0mexpect_reply\u001b[0m\u001b[0;34m=\u001b[0m\u001b[0;32mTrue\u001b[0m\u001b[0;34m\u001b[0m\u001b[0;34m\u001b[0m\u001b[0m\n\u001b[1;32m    175\u001b[0m   )\n\u001b[0;32m--> 176\u001b[0;31m   \u001b[0;32mreturn\u001b[0m \u001b[0mread_reply_from_input\u001b[0m\u001b[0;34m(\u001b[0m\u001b[0mrequest_id\u001b[0m\u001b[0;34m,\u001b[0m \u001b[0mtimeout_sec\u001b[0m\u001b[0;34m)\u001b[0m\u001b[0;34m\u001b[0m\u001b[0;34m\u001b[0m\u001b[0m\n\u001b[0m",
            "\u001b[0;32m/usr/local/lib/python3.10/dist-packages/google/colab/_message.py\u001b[0m in \u001b[0;36mread_reply_from_input\u001b[0;34m(message_id, timeout_sec)\u001b[0m\n\u001b[1;32m    101\u001b[0m     ):\n\u001b[1;32m    102\u001b[0m       \u001b[0;32mif\u001b[0m \u001b[0;34m'error'\u001b[0m \u001b[0;32min\u001b[0m \u001b[0mreply\u001b[0m\u001b[0;34m:\u001b[0m\u001b[0;34m\u001b[0m\u001b[0;34m\u001b[0m\u001b[0m\n\u001b[0;32m--> 103\u001b[0;31m         \u001b[0;32mraise\u001b[0m \u001b[0mMessageError\u001b[0m\u001b[0;34m(\u001b[0m\u001b[0mreply\u001b[0m\u001b[0;34m[\u001b[0m\u001b[0;34m'error'\u001b[0m\u001b[0;34m]\u001b[0m\u001b[0;34m)\u001b[0m\u001b[0;34m\u001b[0m\u001b[0;34m\u001b[0m\u001b[0m\n\u001b[0m\u001b[1;32m    104\u001b[0m       \u001b[0;32mreturn\u001b[0m \u001b[0mreply\u001b[0m\u001b[0;34m.\u001b[0m\u001b[0mget\u001b[0m\u001b[0;34m(\u001b[0m\u001b[0;34m'data'\u001b[0m\u001b[0;34m,\u001b[0m \u001b[0;32mNone\u001b[0m\u001b[0;34m)\u001b[0m\u001b[0;34m\u001b[0m\u001b[0;34m\u001b[0m\u001b[0m\n\u001b[1;32m    105\u001b[0m \u001b[0;34m\u001b[0m\u001b[0m\n",
            "\u001b[0;31mMessageError\u001b[0m: Error: credential propagation was unsuccessful"
          ]
        }
      ],
      "source": [
        "# import relevant modules\n",
        "%matplotlib inline\n",
        "import matplotlib\n",
        "import matplotlib.pyplot as plt\n",
        "import pandas as pd\n",
        "import numpy as np\n",
        "import seaborn as sns\n",
        "import sklearn\n",
        "import imblearn\n",
        "\n",
        "# Ignore warnings\n",
        "import warnings\n",
        "warnings.filterwarnings('ignore')\n",
        "\n",
        "# Settings\n",
        "pd.set_option('display.max_columns', None)\n",
        "np.set_printoptions(threshold=np.inf)\n",
        "np.set_printoptions(precision=3)\n",
        "sns.set(style=\"darkgrid\")\n",
        "plt.rcParams['axes.labelsize'] = 14\n",
        "plt.rcParams['xtick.labelsize'] = 12\n",
        "plt.rcParams['ytick.labelsize'] = 12\n",
        "\n",
        "from google.colab import drive\n",
        "drive.mount('/content/drive')"
      ]
    },
    {
      "cell_type": "code",
      "execution_count": null,
      "metadata": {
        "id": "B_Yybc-0IOSX"
      },
      "outputs": [],
      "source": [
        "data = pd.read_csv(\"/content/drive/MyDrive/intrusion-data/data.csv\")"
      ]
    },
    {
      "cell_type": "code",
      "execution_count": null,
      "metadata": {
        "colab": {
          "base_uri": "https://localhost:8080/"
        },
        "id": "wNNSepQUMC4K",
        "outputId": "ac1409b7-c3d7-48ba-eeb9-91cc3641c678"
      },
      "outputs": [
        {
          "output_type": "stream",
          "name": "stdout",
          "text": [
            "485269\n",
            "   duration protocol_type service flag  src_bytes  dst_bytes  land  \\\n",
            "0         0           tcp    http   SF        181       5450     0   \n",
            "1         0           tcp    http   SF        239        486     0   \n",
            "2         0           tcp    http   SF        235       1337     0   \n",
            "3         0           tcp    http   SF        219       1337     0   \n",
            "4         0           tcp    http   SF        217       2032     0   \n",
            "\n",
            "   wrong_fragment  urgent  hot  num_failed_logins  logged_in  num_compromised  \\\n",
            "0               0       0    0                  0          1                0   \n",
            "1               0       0    0                  0          1                0   \n",
            "2               0       0    0                  0          1                0   \n",
            "3               0       0    0                  0          1                0   \n",
            "4               0       0    0                  0          1                0   \n",
            "\n",
            "   root_shell  su_attempted  num_root  num_file_creations  num_shells  \\\n",
            "0           0             0         0                   0           0   \n",
            "1           0             0         0                   0           0   \n",
            "2           0             0         0                   0           0   \n",
            "3           0             0         0                   0           0   \n",
            "4           0             0         0                   0           0   \n",
            "\n",
            "   num_access_files  num_outbound_cmds  is_host_login  is_guest_login  count  \\\n",
            "0                 0                  0              0               0      8   \n",
            "1                 0                  0              0               0      8   \n",
            "2                 0                  0              0               0      8   \n",
            "3                 0                  0              0               0      6   \n",
            "4                 0                  0              0               0      6   \n",
            "\n",
            "   srv_count  serror_rate  srv_serror_rate  rerror_rate  srv_rerror_rate  \\\n",
            "0          8          0.0              0.0          0.0              0.0   \n",
            "1          8          0.0              0.0          0.0              0.0   \n",
            "2          8          0.0              0.0          0.0              0.0   \n",
            "3          6          0.0              0.0          0.0              0.0   \n",
            "4          6          0.0              0.0          0.0              0.0   \n",
            "\n",
            "   same_srv_rate  diff_srv_rate  srv_diff_host_rate  dst_host_count  \\\n",
            "0            1.0            0.0                 0.0               9   \n",
            "1            1.0            0.0                 0.0              19   \n",
            "2            1.0            0.0                 0.0              29   \n",
            "3            1.0            0.0                 0.0              39   \n",
            "4            1.0            0.0                 0.0              49   \n",
            "\n",
            "   dst_host_srv_count  dst_host_same_srv_rate  dst_host_diff_srv_rate  \\\n",
            "0                   9                     1.0                     0.0   \n",
            "1                  19                     1.0                     0.0   \n",
            "2                  29                     1.0                     0.0   \n",
            "3                  39                     1.0                     0.0   \n",
            "4                  49                     1.0                     0.0   \n",
            "\n",
            "   dst_host_same_src_port_rate  dst_host_srv_diff_host_rate  \\\n",
            "0                         0.11                          0.0   \n",
            "1                         0.05                          0.0   \n",
            "2                         0.03                          0.0   \n",
            "3                         0.03                          0.0   \n",
            "4                         0.02                          0.0   \n",
            "\n",
            "   dst_host_serror_rate  dst_host_srv_serror_rate  dst_host_rerror_rate  \\\n",
            "0                   0.0                       0.0                   0.0   \n",
            "1                   0.0                       0.0                   0.0   \n",
            "2                   0.0                       0.0                   0.0   \n",
            "3                   0.0                       0.0                   0.0   \n",
            "4                   0.0                       0.0                   0.0   \n",
            "\n",
            "   dst_host_srv_rerror_rate   class  \n",
            "0                       0.0  normal  \n",
            "1                       0.0  normal  \n",
            "2                       0.0  normal  \n",
            "3                       0.0  normal  \n",
            "4                       0.0  normal  \n"
          ]
        },
        {
          "output_type": "execute_result",
          "data": {
            "text/plain": [
              "array(['normal', 'neptune', 'smurf'], dtype=object)"
            ]
          },
          "metadata": {},
          "execution_count": 3
        }
      ],
      "source": [
        "# Drop all other classes except 'smurf,' 'neptune', and 'normal.'\n",
        "data = data[data['class'].isin(['smurf','neptune','normal'])]\n",
        "print(len(data))\n",
        "print(data.head())\n",
        "data['class'].unique()"
      ]
    },
    {
      "cell_type": "markdown",
      "metadata": {
        "id": "hEJ_E5yzV7CI"
      },
      "source": [
        "# SCALING"
      ]
    },
    {
      "cell_type": "code",
      "execution_count": null,
      "metadata": {
        "id": "R5KVRkdsV6dC"
      },
      "outputs": [],
      "source": [
        "from sklearn.preprocessing import StandardScaler\n",
        "scaler = StandardScaler()\n",
        "\n",
        "# extract numerical attributes and scale it to have zero mean and unit variance\n",
        "cols = data.select_dtypes(include=['float64','int64']).columns\n",
        "sc_train = scaler.fit_transform(data.select_dtypes(include=['float64','int64']))\n",
        "\n",
        "\n",
        "# turn the result back to a dataframe\n",
        "sc_traindf = pd.DataFrame(sc_train, columns = cols)"
      ]
    },
    {
      "cell_type": "markdown",
      "metadata": {
        "id": "IkZx_KjtWGsq"
      },
      "source": [
        "# ENCODING"
      ]
    },
    {
      "cell_type": "code",
      "execution_count": null,
      "metadata": {
        "id": "zlrrBlvHWH9r"
      },
      "outputs": [],
      "source": [
        "from sklearn.preprocessing import LabelEncoder\n",
        "encoder = LabelEncoder()\n",
        "\n",
        "# extract categorical attributes from both training and test sets\n",
        "cattrain = data.select_dtypes(include=['object']).copy()\n",
        "\n",
        "# encode the categorical attributes\n",
        "traincat = cattrain.apply(encoder.fit_transform)\n",
        "\n",
        "# separate target column from encoded data\n",
        "enctrain = traincat.drop(['class'], axis=1)\n",
        "cat_Ytrain = traincat[['class']].copy()"
      ]
    },
    {
      "cell_type": "code",
      "execution_count": null,
      "metadata": {
        "colab": {
          "base_uri": "https://localhost:8080/"
        },
        "id": "6jRu4gXIWKH2",
        "outputId": "e2792ef5-4e5f-4122-829d-fe330c28361d"
      },
      "outputs": [
        {
          "output_type": "stream",
          "name": "stdout",
          "text": [
            "485269\n",
            "485269\n",
            "485269\n",
            "   duration  src_bytes  dst_bytes      land  wrong_fragment    urgent  \\\n",
            "0 -0.070654  -0.038642   0.282684 -0.001436             0.0 -0.001436   \n",
            "1 -0.070654  -0.034859  -0.011404 -0.001436             0.0 -0.001436   \n",
            "2 -0.070654  -0.035120   0.039013 -0.001436             0.0 -0.001436   \n",
            "3 -0.070654  -0.036164   0.039013 -0.001436             0.0 -0.001436   \n",
            "4 -0.070654  -0.036294   0.080187 -0.001436             0.0 -0.001436   \n",
            "\n",
            "       hot  num_failed_logins  logged_in  num_compromised  root_shell  \\\n",
            "0 -0.02319          -0.003987   2.436896        -0.003157   -0.006885   \n",
            "1 -0.02319          -0.003987   2.436896        -0.003157   -0.006885   \n",
            "2 -0.02319          -0.003987   2.436896        -0.003157   -0.006885   \n",
            "3 -0.02319          -0.003987   2.436896        -0.003157   -0.006885   \n",
            "4 -0.02319          -0.003987   2.436896        -0.003157   -0.006885   \n",
            "\n",
            "   su_attempted  num_root  num_file_creations  num_shells  num_access_files  \\\n",
            "0     -0.004532 -0.005543            -0.01041   -0.009414         -0.027537   \n",
            "1     -0.004532 -0.005543            -0.01041   -0.009414         -0.027537   \n",
            "2     -0.004532 -0.005543            -0.01041   -0.009414         -0.027537   \n",
            "3     -0.004532 -0.005543            -0.01041   -0.009414         -0.027537   \n",
            "4     -0.004532 -0.005543            -0.01041   -0.009414         -0.027537   \n",
            "\n",
            "   num_outbound_cmds  is_host_login  is_guest_login     count  srv_count  \\\n",
            "0                0.0            0.0       -0.027661 -1.556705  -1.181006   \n",
            "1                0.0            0.0       -0.027661 -1.556705  -1.181006   \n",
            "2                0.0            0.0       -0.027661 -1.556705  -1.181006   \n",
            "3                0.0            0.0       -0.027661 -1.566177  -1.189151   \n",
            "4                0.0            0.0       -0.027661 -1.566177  -1.189151   \n",
            "\n",
            "   serror_rate  srv_serror_rate  rerror_rate  srv_rerror_rate  same_srv_rate  \\\n",
            "0    -0.467296        -0.467446    -0.237626        -0.238144       0.537251   \n",
            "1    -0.467296        -0.467446    -0.237626        -0.238144       0.537251   \n",
            "2    -0.467296        -0.467446    -0.237626        -0.238144       0.537251   \n",
            "3    -0.467296        -0.467446    -0.237626        -0.238144       0.537251   \n",
            "4    -0.467296        -0.467446    -0.237626        -0.238144       0.537251   \n",
            "\n",
            "   diff_srv_rate  srv_diff_host_rate  dst_host_count  dst_host_srv_count  \\\n",
            "0      -0.296034           -0.198036       -3.564691           -1.724030   \n",
            "1      -0.296034           -0.198036       -3.405966           -1.629011   \n",
            "2      -0.296034           -0.198036       -3.247241           -1.533992   \n",
            "3      -0.296034           -0.198036       -3.088516           -1.438972   \n",
            "4      -0.296034           -0.198036       -2.929791           -1.343953   \n",
            "\n",
            "   dst_host_same_srv_rate  dst_host_diff_srv_rate  \\\n",
            "0                0.593416               -0.300487   \n",
            "1                0.593416               -0.300487   \n",
            "2                0.593416               -0.300487   \n",
            "3                0.593416               -0.300487   \n",
            "4                0.593416               -0.300487   \n",
            "\n",
            "   dst_host_same_src_port_rate  dst_host_srv_diff_host_rate  \\\n",
            "0                    -1.029727                    -0.200099   \n",
            "1                    -1.154462                    -0.200099   \n",
            "2                    -1.196040                    -0.200099   \n",
            "3                    -1.196040                    -0.200099   \n",
            "4                    -1.216829                    -0.200099   \n",
            "\n",
            "   dst_host_serror_rate  dst_host_srv_serror_rate  dst_host_rerror_rate  \\\n",
            "0             -0.467631                 -0.467115             -0.240131   \n",
            "1             -0.467631                 -0.467115             -0.240131   \n",
            "2             -0.467631                 -0.467115             -0.240131   \n",
            "3             -0.467631                 -0.467115             -0.240131   \n",
            "4             -0.467631                 -0.467115             -0.240131   \n",
            "\n",
            "   dst_host_srv_rerror_rate  protocol_type  service  flag  \n",
            "0                 -0.239684              1       22     8  \n",
            "1                 -0.239684              1       22     8  \n",
            "2                 -0.239684              1       22     8  \n",
            "3                 -0.239684              1       22     8  \n",
            "4                 -0.239684              1       22     8  \n"
          ]
        }
      ],
      "source": [
        "sc_traindf.reset_index(drop=True, inplace=True)\n",
        "enctrain.reset_index(drop=True, inplace=True)\n",
        "\n",
        "train_x = pd.concat([sc_traindf ,enctrain],axis=1)\n",
        "print(len(train_x))\n",
        "print(len(enctrain))\n",
        "print(len(sc_traindf))\n",
        "train_y = data['class']\n",
        "\n",
        "print(train_x.head())"
      ]
    },
    {
      "cell_type": "markdown",
      "metadata": {
        "id": "2EQTbO_1WMAk"
      },
      "source": [
        "# DATASET PARTITION"
      ]
    },
    {
      "cell_type": "code",
      "execution_count": null,
      "metadata": {
        "id": "2-V2qEsEWM_F"
      },
      "outputs": [],
      "source": [
        "from sklearn.model_selection import train_test_split\n",
        "\n",
        "X_train, X_test, Y_train, Y_test = train_test_split(train_x, train_y, train_size=0.70, random_state=2)"
      ]
    },
    {
      "cell_type": "markdown",
      "metadata": {
        "id": "KD1FF47AXKCI"
      },
      "source": [
        "K-Nearest Neighbors model to classify by attack type."
      ]
    },
    {
      "cell_type": "code",
      "execution_count": null,
      "metadata": {
        "id": "vBwhSKTQXeIC"
      },
      "outputs": [],
      "source": [
        "from sklearn.neighbors import KNeighborsClassifier\n",
        "\n",
        "# Train KNeighborsClassifier Model\n",
        "KNN_Classifier = KNeighborsClassifier(n_jobs=-1)\n",
        "KNN_Classifier.fit(X_train, Y_train);\n",
        "Y_Predict = KNN_Classifier.predict(X_test)"
      ]
    },
    {
      "cell_type": "code",
      "execution_count": null,
      "metadata": {
        "colab": {
          "base_uri": "https://localhost:8080/"
        },
        "id": "CHH-LxLiUm9t",
        "outputId": "1b132af4-714a-4be6-9f0b-0906340261d7"
      },
      "outputs": [
        {
          "output_type": "stream",
          "name": "stdout",
          "text": [
            "Cross Validation Mean Score:\n",
            " 0.9999440661290094\n"
          ]
        }
      ],
      "source": [
        "from sklearn.model_selection import cross_val_score\n",
        "\n",
        "scores = cross_val_score(KNN_Classifier, X_train, Y_train, cv=10)\n",
        "print (\"Cross Validation Mean Score:\" \"\\n\", scores.mean())"
      ]
    },
    {
      "cell_type": "code",
      "execution_count": null,
      "metadata": {
        "colab": {
          "base_uri": "https://localhost:8080/"
        },
        "id": "mkp-dNT8KGEJ",
        "outputId": "0bace234-3a2b-42a0-b0c3-128bc6040790"
      },
      "outputs": [
        {
          "output_type": "stream",
          "name": "stdout",
          "text": [
            "\n",
            "============================== Model Evaluation ==============================\n",
            "\n",
            "Model Accuracy:\n",
            " 0.9999656548588072\n",
            "\n",
            "Model Precision:\n",
            " 0.9999656548767031\n",
            "\n",
            "Confusion matrix:\n",
            " [[32361     1     0]\n",
            " [    1 28832     3]\n",
            " [    0     0 84383]]\n",
            "\n",
            "Classification report:\n",
            "               precision    recall  f1-score   support\n",
            "\n",
            "     neptune       1.00      1.00      1.00     32362\n",
            "      normal       1.00      1.00      1.00     28836\n",
            "       smurf       1.00      1.00      1.00     84383\n",
            "\n",
            "    accuracy                           1.00    145581\n",
            "   macro avg       1.00      1.00      1.00    145581\n",
            "weighted avg       1.00      1.00      1.00    145581\n",
            "\n",
            "\n"
          ]
        }
      ],
      "source": [
        "from sklearn import metrics\n",
        "\n",
        "accuracy = metrics.accuracy_score(Y_test, Y_Predict)\n",
        "precision = metrics.precision_score(Y_test, Y_Predict, average='weighted')\n",
        "confusion_matrix = metrics.confusion_matrix(Y_test, Y_Predict)\n",
        "classification = metrics.classification_report(Y_test, Y_Predict)\n",
        "print()\n",
        "print('============================== Model Evaluation ==============================')\n",
        "print()\n",
        "print(\"Model Accuracy:\" \"\\n\", accuracy)\n",
        "print()\n",
        "print(\"Model Precision:\" \"\\n\", precision)\n",
        "print()\n",
        "print(\"Confusion matrix:\" \"\\n\", confusion_matrix)\n",
        "print()\n",
        "print(\"Classification report:\" \"\\n\", classification)\n",
        "print()"
      ]
    }
  ],
  "metadata": {
    "colab": {
      "provenance": []
    },
    "kernelspec": {
      "display_name": "Python 3",
      "name": "python3"
    },
    "language_info": {
      "name": "python"
    }
  },
  "nbformat": 4,
  "nbformat_minor": 0
}